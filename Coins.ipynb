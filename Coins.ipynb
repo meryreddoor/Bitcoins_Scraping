{
 "cells": [
  {
   "cell_type": "markdown",
   "metadata": {},
   "source": [
    "# Cryptocurrencies Analysis"
   ]
  },
  {
   "cell_type": "markdown",
   "metadata": {},
   "source": [
    "### Importing libraries:"
   ]
  },
  {
   "cell_type": "code",
   "execution_count": 1,
   "metadata": {},
   "outputs": [],
   "source": [
    "import re\n",
    "import pandas as pd\n",
    "import requests\n",
    "from bs4 import BeautifulSoup\n",
    "import matplotlib\n",
    "import matplotlib.pyplot as plt"
   ]
  },
  {
   "cell_type": "markdown",
   "metadata": {},
   "source": [
    "### Importing data from Wikipedia - List of cryptocurrencies"
   ]
  },
  {
   "cell_type": "code",
   "execution_count": 2,
   "metadata": {},
   "outputs": [],
   "source": [
    "#Extracting the information from the web page.\n",
    "res = requests.get(\"https://en.wikipedia.org/wiki/List_of_cryptocurrencies\")\n",
    "soup = BeautifulSoup(res.text, 'html.parser')"
   ]
  },
  {
   "cell_type": "code",
   "execution_count": 3,
   "metadata": {},
   "outputs": [
    {
     "data": {
      "text/plain": [
       "<td>2009\n",
       "</td>"
      ]
     },
     "execution_count": 3,
     "metadata": {},
     "output_type": "execute_result"
    }
   ],
   "source": [
    "datos=soup.find_all('table')[0]\n",
    "datos.find_all('tr')[1].find_all(\"td\")[0]"
   ]
  },
  {
   "cell_type": "code",
   "execution_count": 4,
   "metadata": {},
   "outputs": [],
   "source": [
    "def createDF(table):\n",
    "    \n",
    "    headers = [header.text[:-1] for header in datos.find_all('th')]\n",
    "    data=[]\n",
    "    for row in table.find_all('tr')[1:]:\n",
    "        currency = {}\n",
    "        for index,value in enumerate(row.find_all(\"td\")):\n",
    "            currency[headers[index]]=value.text[:-1]\n",
    "        data.append(currency)\n",
    "    data = pd.DataFrame(data)\n",
    "    return data\n",
    "\n",
    "wiki=createDF(datos)"
   ]
  },
  {
   "cell_type": "code",
   "execution_count": 5,
   "metadata": {},
   "outputs": [],
   "source": [
    "def quitarBrackets():\n",
    "    for columna in wiki:\n",
    "        wiki[columna] = wiki[columna].str.replace(r\"\\[.*\\]\",\"\")\n",
    "    return wiki\n",
    "clean_wiki = quitarBrackets()"
   ]
  },
  {
   "cell_type": "code",
   "execution_count": 21,
   "metadata": {},
   "outputs": [],
   "source": [
    "def changeWiki():    \n",
    "    for i in range(len(clean_wiki)):\n",
    "\n",
    "        diccionario = {'EOS.IO':'EOS',\n",
    "                       'Bitcoin-cash':'Bitcoin Cash', \n",
    "                       'Ether or \"Ethereum\"':'Ethereum'\n",
    "                      }\n",
    "        for x,y in diccionario.items(): \n",
    "                clean_wiki['Currency'].values[i] = clean_wiki['Currency'].values[i].replace(x, y)\n",
    "    return clean_wiki\n",
    "\n",
    "clean_wiki=changeWiki()"
   ]
  },
  {
   "cell_type": "markdown",
   "metadata": {},
   "source": [
    "### Importing data from Kaggle - Historical data"
   ]
  },
  {
   "cell_type": "code",
   "execution_count": 22,
   "metadata": {},
   "outputs": [],
   "source": [
    "historical_data = pd.read_csv(\"INPUT/consolidated_coin_data.csv\",encoding='latin1')"
   ]
  },
  {
   "cell_type": "code",
   "execution_count": 23,
   "metadata": {},
   "outputs": [
    {
     "data": {
      "text/html": [
       "<div>\n",
       "<style scoped>\n",
       "    .dataframe tbody tr th:only-of-type {\n",
       "        vertical-align: middle;\n",
       "    }\n",
       "\n",
       "    .dataframe tbody tr th {\n",
       "        vertical-align: top;\n",
       "    }\n",
       "\n",
       "    .dataframe thead th {\n",
       "        text-align: right;\n",
       "    }\n",
       "</style>\n",
       "<table border=\"1\" class=\"dataframe\">\n",
       "  <thead>\n",
       "    <tr style=\"text-align: right;\">\n",
       "      <th></th>\n",
       "      <th>Currency</th>\n",
       "      <th>Date</th>\n",
       "      <th>Open</th>\n",
       "      <th>High</th>\n",
       "      <th>Low</th>\n",
       "      <th>Close</th>\n",
       "      <th>Volume</th>\n",
       "      <th>Market Cap</th>\n",
       "    </tr>\n",
       "  </thead>\n",
       "  <tbody>\n",
       "    <tr>\n",
       "      <th>0</th>\n",
       "      <td>tezos</td>\n",
       "      <td>Dec 04, 2019</td>\n",
       "      <td>1.29</td>\n",
       "      <td>1.32</td>\n",
       "      <td>1.25</td>\n",
       "      <td>1.25</td>\n",
       "      <td>46,048,752</td>\n",
       "      <td>824,588,509</td>\n",
       "    </tr>\n",
       "    <tr>\n",
       "      <th>1</th>\n",
       "      <td>tezos</td>\n",
       "      <td>Dec 03, 2019</td>\n",
       "      <td>1.24</td>\n",
       "      <td>1.32</td>\n",
       "      <td>1.21</td>\n",
       "      <td>1.29</td>\n",
       "      <td>41,462,224</td>\n",
       "      <td>853,213,342</td>\n",
       "    </tr>\n",
       "    <tr>\n",
       "      <th>2</th>\n",
       "      <td>tezos</td>\n",
       "      <td>Dec 02, 2019</td>\n",
       "      <td>1.25</td>\n",
       "      <td>1.26</td>\n",
       "      <td>1.20</td>\n",
       "      <td>1.24</td>\n",
       "      <td>27,574,097</td>\n",
       "      <td>817,872,179</td>\n",
       "    </tr>\n",
       "    <tr>\n",
       "      <th>3</th>\n",
       "      <td>tezos</td>\n",
       "      <td>Dec 01, 2019</td>\n",
       "      <td>1.33</td>\n",
       "      <td>1.34</td>\n",
       "      <td>1.25</td>\n",
       "      <td>1.25</td>\n",
       "      <td>24,127,567</td>\n",
       "      <td>828,296,390</td>\n",
       "    </tr>\n",
       "    <tr>\n",
       "      <th>4</th>\n",
       "      <td>tezos</td>\n",
       "      <td>Nov 30, 2019</td>\n",
       "      <td>1.31</td>\n",
       "      <td>1.37</td>\n",
       "      <td>1.31</td>\n",
       "      <td>1.33</td>\n",
       "      <td>28,706,667</td>\n",
       "      <td>879,181,680</td>\n",
       "    </tr>\n",
       "    <tr>\n",
       "      <th>...</th>\n",
       "      <td>...</td>\n",
       "      <td>...</td>\n",
       "      <td>...</td>\n",
       "      <td>...</td>\n",
       "      <td>...</td>\n",
       "      <td>...</td>\n",
       "      <td>...</td>\n",
       "      <td>...</td>\n",
       "    </tr>\n",
       "    <tr>\n",
       "      <th>28939</th>\n",
       "      <td>Bitcoin-sv</td>\n",
       "      <td>May 02, 2013</td>\n",
       "      <td>3.78</td>\n",
       "      <td>4.04</td>\n",
       "      <td>3.01</td>\n",
       "      <td>3.37</td>\n",
       "      <td>0</td>\n",
       "      <td>58,287,979</td>\n",
       "    </tr>\n",
       "    <tr>\n",
       "      <th>28940</th>\n",
       "      <td>Bitcoin-sv</td>\n",
       "      <td>May 01, 2013</td>\n",
       "      <td>4.29</td>\n",
       "      <td>4.36</td>\n",
       "      <td>3.52</td>\n",
       "      <td>3.80</td>\n",
       "      <td>0</td>\n",
       "      <td>65,604,596</td>\n",
       "    </tr>\n",
       "    <tr>\n",
       "      <th>28941</th>\n",
       "      <td>Bitcoin-sv</td>\n",
       "      <td>Apr 30, 2013</td>\n",
       "      <td>4.40</td>\n",
       "      <td>4.57</td>\n",
       "      <td>4.17</td>\n",
       "      <td>4.30</td>\n",
       "      <td>0</td>\n",
       "      <td>74,020,918</td>\n",
       "    </tr>\n",
       "    <tr>\n",
       "      <th>28942</th>\n",
       "      <td>Bitcoin-sv</td>\n",
       "      <td>Apr 29, 2013</td>\n",
       "      <td>4.37</td>\n",
       "      <td>4.57</td>\n",
       "      <td>4.23</td>\n",
       "      <td>4.38</td>\n",
       "      <td>0</td>\n",
       "      <td>75,388,964</td>\n",
       "    </tr>\n",
       "    <tr>\n",
       "      <th>28943</th>\n",
       "      <td>Bitcoin-sv</td>\n",
       "      <td>Apr 28, 2013</td>\n",
       "      <td>4.30</td>\n",
       "      <td>4.40</td>\n",
       "      <td>4.18</td>\n",
       "      <td>4.35</td>\n",
       "      <td>0</td>\n",
       "      <td>74,636,938</td>\n",
       "    </tr>\n",
       "  </tbody>\n",
       "</table>\n",
       "<p>28944 rows × 8 columns</p>\n",
       "</div>"
      ],
      "text/plain": [
       "         Currency          Date  Open  High   Low Close      Volume  \\\n",
       "0           tezos  Dec 04, 2019  1.29  1.32  1.25  1.25  46,048,752   \n",
       "1           tezos  Dec 03, 2019  1.24  1.32  1.21  1.29  41,462,224   \n",
       "2           tezos  Dec 02, 2019  1.25  1.26  1.20  1.24  27,574,097   \n",
       "3           tezos  Dec 01, 2019  1.33  1.34  1.25  1.25  24,127,567   \n",
       "4           tezos  Nov 30, 2019  1.31  1.37  1.31  1.33  28,706,667   \n",
       "...           ...           ...   ...   ...   ...   ...         ...   \n",
       "28939  Bitcoin-sv  May 02, 2013  3.78  4.04  3.01  3.37           0   \n",
       "28940  Bitcoin-sv  May 01, 2013  4.29  4.36  3.52  3.80           0   \n",
       "28941  Bitcoin-sv  Apr 30, 2013  4.40  4.57  4.17  4.30           0   \n",
       "28942  Bitcoin-sv  Apr 29, 2013  4.37  4.57  4.23  4.38           0   \n",
       "28943  Bitcoin-sv  Apr 28, 2013  4.30  4.40  4.18  4.35           0   \n",
       "\n",
       "        Market Cap  \n",
       "0      824,588,509  \n",
       "1      853,213,342  \n",
       "2      817,872,179  \n",
       "3      828,296,390  \n",
       "4      879,181,680  \n",
       "...            ...  \n",
       "28939   58,287,979  \n",
       "28940   65,604,596  \n",
       "28941   74,020,918  \n",
       "28942   75,388,964  \n",
       "28943   74,636,938  \n",
       "\n",
       "[28944 rows x 8 columns]"
      ]
     },
     "execution_count": 23,
     "metadata": {},
     "output_type": "execute_result"
    }
   ],
   "source": [
    "def changeKaggle():    \n",
    "    for i in range(len(historical_data)):\n",
    "\n",
    "        diccionario = {'bitcoin':'Bitcoin',\n",
    "                       'bitcoin-cash':'Bitcoin Cash', \n",
    "                       'eos':'EOS',\n",
    "                       'ethereum':'Ethereum',\n",
    "                       'litecoin':'Litecoin',\n",
    "                       'stellar':'Stellar',\n",
    "                       'tether':'Tether',\n",
    "                       'xrp':'Ripple'\n",
    "                      }\n",
    "        for x,y in diccionario.items(): \n",
    "                historical_data['Currency'].values[i] = historical_data['Currency'].values[i].replace(x, y)\n",
    "    return historical_data\n",
    "\n",
    "clean_kaggle=changeKaggle()\n",
    "clean_kaggle"
   ]
  },
  {
   "cell_type": "markdown",
   "metadata": {},
   "source": [
    "# CONCLUSIONS - Merging both files"
   ]
  },
  {
   "cell_type": "code",
   "execution_count": 32,
   "metadata": {},
   "outputs": [],
   "source": [
    "def merging():\n",
    "    result=pd.merge(clean_wiki,\n",
    "                   clean_kaggle,\n",
    "                   on='Currency')\n",
    "    return result[['Release','Currency','Symbol','Programming language of implementation','Notes','Date','Close','Market Cap']]\n",
    "final_table=merging()"
   ]
  },
  {
   "cell_type": "code",
   "execution_count": 38,
   "metadata": {},
   "outputs": [],
   "source": [
    "final_table.to_csv(\"OUTPUT/final_table.csv\")"
   ]
  },
  {
   "cell_type": "code",
   "execution_count": null,
   "metadata": {},
   "outputs": [],
   "source": []
  }
 ],
 "metadata": {
  "kernelspec": {
   "display_name": "Python 3",
   "language": "python",
   "name": "python3"
  },
  "language_info": {
   "codemirror_mode": {
    "name": "ipython",
    "version": 3
   },
   "file_extension": ".py",
   "mimetype": "text/x-python",
   "name": "python",
   "nbconvert_exporter": "python",
   "pygments_lexer": "ipython3",
   "version": "3.7.6"
  }
 },
 "nbformat": 4,
 "nbformat_minor": 4
}
