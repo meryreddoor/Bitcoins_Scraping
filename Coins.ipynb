{
 "cells": [
  {
   "cell_type": "markdown",
   "metadata": {},
   "source": [
    "# Cryptocurrencies Analysis"
   ]
  },
  {
   "cell_type": "markdown",
   "metadata": {},
   "source": [
    "### Importing libraries:"
   ]
  },
  {
   "cell_type": "code",
   "execution_count": 1,
   "metadata": {},
   "outputs": [],
   "source": [
    "import re\n",
    "import pandas as pd\n",
    "import requests\n",
    "import numpy as np\n",
    "from bs4 import BeautifulSoup\n",
    "import matplotlib\n",
    "import matplotlib.pyplot as plt"
   ]
  },
  {
   "cell_type": "markdown",
   "metadata": {},
   "source": [
    "### Importing data from Wikipedia - List of cryptocurrencies"
   ]
  },
  {
   "cell_type": "code",
   "execution_count": 2,
   "metadata": {},
   "outputs": [],
   "source": [
    "#Extracting the information from the web page.\n",
    "res = requests.get(\"https://en.wikipedia.org/wiki/List_of_cryptocurrencies\")\n",
    "soup = BeautifulSoup(res.text, 'html.parser')"
   ]
  },
  {
   "cell_type": "code",
   "execution_count": 3,
   "metadata": {},
   "outputs": [
    {
     "data": {
      "text/plain": [
       "<td>2009\n",
       "</td>"
      ]
     },
     "execution_count": 3,
     "metadata": {},
     "output_type": "execute_result"
    }
   ],
   "source": [
    "datos=soup.find_all('table')[0]\n",
    "datos.find_all('tr')[1].find_all(\"td\")[0]"
   ]
  },
  {
   "cell_type": "code",
   "execution_count": 4,
   "metadata": {},
   "outputs": [],
   "source": [
    "def createDF(table):\n",
    "    \n",
    "    headers = [header.text[:-1] for header in datos.find_all('th')]\n",
    "    data=[]\n",
    "    for row in table.find_all('tr')[1:]:\n",
    "        currency = {}\n",
    "        for index,value in enumerate(row.find_all(\"td\")):\n",
    "            currency[headers[index]]=value.text[:-1]\n",
    "        data.append(currency)\n",
    "    data = pd.DataFrame(data)\n",
    "    return data\n",
    "\n",
    "wiki=createDF(datos)"
   ]
  },
  {
   "cell_type": "code",
   "execution_count": 5,
   "metadata": {},
   "outputs": [],
   "source": [
    "def quitarBrackets():\n",
    "    for columna in wiki:\n",
    "        wiki[columna] = wiki[columna].str.replace(r\"\\[.*\\]\",\"\")\n",
    "    return wiki\n",
    "clean_wiki = quitarBrackets()"
   ]
  },
  {
   "cell_type": "code",
   "execution_count": 6,
   "metadata": {},
   "outputs": [],
   "source": [
    "def changeWiki():    \n",
    "    for i in range(len(clean_wiki)):\n",
    "\n",
    "        diccionario = {'EOS.IO':'EOS',\n",
    "                       'Bitcoin-cash':'Bitcoin Cash', \n",
    "                       'Ether or \"Ethereum\"':'Ethereum'\n",
    "                      }\n",
    "        for x,y in diccionario.items(): \n",
    "                clean_wiki['Currency'].values[i] = clean_wiki['Currency'].values[i].replace(x, y)\n",
    "    return clean_wiki\n",
    "\n",
    "clean_wiki=changeWiki()"
   ]
  },
  {
   "cell_type": "markdown",
   "metadata": {},
   "source": [
    "### Importing data from Kaggle - Historical data"
   ]
  },
  {
   "cell_type": "code",
   "execution_count": 7,
   "metadata": {},
   "outputs": [],
   "source": [
    "historical_data = pd.read_csv(\"INPUT/consolidated_coin_data.csv\",encoding='latin1')"
   ]
  },
  {
   "cell_type": "code",
   "execution_count": 8,
   "metadata": {},
   "outputs": [],
   "source": [
    "def changeKaggle():    \n",
    "    for i in range(len(historical_data)):\n",
    "\n",
    "        diccionario = {'bitcoin':'Bitcoin',\n",
    "                       'bitcoin-cash':'Bitcoin Cash', \n",
    "                       'eos':'EOS',\n",
    "                       'ethereum':'Ethereum',\n",
    "                       'litecoin':'Litecoin',\n",
    "                       'stellar':'Stellar',\n",
    "                       'tether':'Tether',\n",
    "                       'xrp':'Ripple'\n",
    "                      }\n",
    "        for x,y in diccionario.items(): \n",
    "                historical_data['Currency'].values[i] = historical_data['Currency'].values[i].replace(x, y)\n",
    "    return historical_data\n",
    "\n",
    "clean_kaggle=changeKaggle()"
   ]
  },
  {
   "cell_type": "markdown",
   "metadata": {},
   "source": [
    "# CONCLUSIONS - Merging both files"
   ]
  },
  {
   "cell_type": "code",
   "execution_count": 9,
   "metadata": {},
   "outputs": [],
   "source": [
    "def merging():\n",
    "    result=pd.merge(clean_wiki,\n",
    "                   clean_kaggle,\n",
    "                   on='Currency')\n",
    "    return result[['Release','Currency','Symbol','Programming language of implementation','Notes','Date','Close','Market Cap']]\n",
    "final_table=merging()"
   ]
  },
  {
   "cell_type": "code",
   "execution_count": 11,
   "metadata": {},
   "outputs": [],
   "source": [
    "#Exporting the file.\n",
    "final_table.to_csv(\"OUTPUT/final_table.csv\")"
   ]
  },
  {
   "cell_type": "code",
   "execution_count": 14,
   "metadata": {},
   "outputs": [],
   "source": [
    "#Casting the columns that should be as float.\n",
    "final_table['Close'] = final_table['Close'].str.replace(',', '').astype(float)\n",
    "final_table['Market Cap']=final_table['Market Cap'].str.replace(',', '').astype(float)\n",
    "final_table['Date']=pd.to_datetime(final_table['Date'])"
   ]
  },
  {
   "cell_type": "code",
   "execution_count": null,
   "metadata": {},
   "outputs": [],
   "source": []
  }
 ],
 "metadata": {
  "kernelspec": {
   "display_name": "Python 3",
   "language": "python",
   "name": "python3"
  },
  "language_info": {
   "codemirror_mode": {
    "name": "ipython",
    "version": 3
   },
   "file_extension": ".py",
   "mimetype": "text/x-python",
   "name": "python",
   "nbconvert_exporter": "python",
   "pygments_lexer": "ipython3",
   "version": "3.7.6"
  }
 },
 "nbformat": 4,
 "nbformat_minor": 4
}
