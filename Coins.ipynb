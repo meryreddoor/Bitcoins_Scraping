{
 "cells": [
  {
   "cell_type": "markdown",
   "metadata": {},
   "source": [
    "# Cryptocurrencies Analysis"
   ]
  },
  {
   "cell_type": "markdown",
   "metadata": {},
   "source": [
    "### Importing libraries:"
   ]
  },
  {
   "cell_type": "code",
   "execution_count": 2,
   "metadata": {},
   "outputs": [],
   "source": [
    "import re\n",
    "import pandas as pd\n",
    "import requests\n",
    "import numpy as np\n",
    "from bs4 import BeautifulSoup\n",
    "import matplotlib\n",
    "import matplotlib.pyplot as plt"
   ]
  },
  {
   "cell_type": "markdown",
   "metadata": {},
   "source": [
    "### Importing data from Wikipedia - List of cryptocurrencies"
   ]
  },
  {
   "cell_type": "code",
   "execution_count": 3,
   "metadata": {},
   "outputs": [],
   "source": [
    "#Extracting the information from the web page.\n",
    "res = requests.get(\"https://en.wikipedia.org/wiki/List_of_cryptocurrencies\")\n",
    "soup = BeautifulSoup(res.text, 'html.parser')"
   ]
  },
  {
   "cell_type": "code",
   "execution_count": 4,
   "metadata": {},
   "outputs": [
    {
     "data": {
      "text/plain": [
       "<td>2009\n",
       "</td>"
      ]
     },
     "execution_count": 4,
     "metadata": {},
     "output_type": "execute_result"
    }
   ],
   "source": [
    "datos=soup.find_all('table')[0]\n",
    "datos.find_all('tr')[1].find_all(\"td\")[0]"
   ]
  },
  {
   "cell_type": "code",
   "execution_count": 5,
   "metadata": {},
   "outputs": [],
   "source": [
    "def createDF(table):\n",
    "    \n",
    "    headers = [header.text[:-1] for header in datos.find_all('th')]\n",
    "    data=[]\n",
    "    for row in table.find_all('tr')[1:]:\n",
    "        currency = {}\n",
    "        for index,value in enumerate(row.find_all(\"td\")):\n",
    "            currency[headers[index]]=value.text[:-1]\n",
    "        data.append(currency)\n",
    "    data = pd.DataFrame(data)\n",
    "    return data\n",
    "\n",
    "wiki=createDF(datos)"
   ]
  },
  {
   "cell_type": "code",
   "execution_count": 6,
   "metadata": {},
   "outputs": [],
   "source": [
    "def quitarBrackets():\n",
    "    for columna in wiki:\n",
    "        wiki[columna] = wiki[columna].str.replace(r\"\\[.*\\]\",\"\")\n",
    "    return wiki\n",
    "clean_wiki = quitarBrackets()"
   ]
  },
  {
   "cell_type": "code",
   "execution_count": 7,
   "metadata": {},
   "outputs": [],
   "source": [
    "def changeWiki():    \n",
    "    for i in range(len(clean_wiki)):\n",
    "\n",
    "        diccionario = {'EOS.IO':'EOS',\n",
    "                       'Bitcoin-cash':'Bitcoin Cash', \n",
    "                       'Ether or \"Ethereum\"':'Ethereum'\n",
    "                      }\n",
    "        for x,y in diccionario.items(): \n",
    "                clean_wiki['Currency'].values[i] = clean_wiki['Currency'].values[i].replace(x, y)\n",
    "    return clean_wiki\n",
    "\n",
    "clean_wiki=changeWiki()"
   ]
  },
  {
   "cell_type": "markdown",
   "metadata": {},
   "source": [
    "### Importing data from Kaggle - Historical data"
   ]
  },
  {
   "cell_type": "code",
   "execution_count": 8,
   "metadata": {},
   "outputs": [],
   "source": [
    "historical_data = pd.read_csv(\"INPUT/consolidated_coin_data.csv\",encoding='latin1')"
   ]
  },
  {
   "cell_type": "code",
   "execution_count": 9,
   "metadata": {},
   "outputs": [],
   "source": [
    "def changeKaggle():    \n",
    "    for i in range(len(historical_data)):\n",
    "\n",
    "        diccionario = {'bitcoin':'Bitcoin',\n",
    "                       'bitcoin-cash':'Bitcoin Cash', \n",
    "                       'eos':'EOS',\n",
    "                       'ethereum':'Ethereum',\n",
    "                       'litecoin':'Litecoin',\n",
    "                       'stellar':'Stellar',\n",
    "                       'tether':'Tether',\n",
    "                       'xrp':'Ripple'\n",
    "                      }\n",
    "        for x,y in diccionario.items(): \n",
    "                historical_data['Currency'].values[i] = historical_data['Currency'].values[i].replace(x, y)\n",
    "    return historical_data\n",
    "\n",
    "clean_kaggle=changeKaggle()"
   ]
  },
  {
   "cell_type": "markdown",
   "metadata": {},
   "source": [
    "# CONCLUSIONS - Merging both files"
   ]
  },
  {
   "cell_type": "code",
   "execution_count": 10,
   "metadata": {},
   "outputs": [],
   "source": [
    "def merging():\n",
    "    result=pd.merge(clean_wiki,\n",
    "                   clean_kaggle,\n",
    "                   on='Currency')\n",
    "    return result[['Release','Currency','Symbol','Programming language of implementation','Notes','Date','Close','Market Cap']]\n",
    "final_table=merging()"
   ]
  },
  {
   "cell_type": "code",
   "execution_count": 11,
   "metadata": {},
   "outputs": [],
   "source": [
    "#Casting the columns that should be as float.\n",
    "final_table['Close'] = final_table['Close'].str.replace(',', '').astype(float)\n",
    "final_table['Market Cap']=final_table['Market Cap'].str.replace(',', '').astype(float)\n",
    "final_table['Date']=pd.to_datetime(final_table['Date'])"
   ]
  },
  {
   "cell_type": "code",
   "execution_count": 12,
   "metadata": {},
   "outputs": [],
   "source": [
    "#Exporting the file.\n",
    "final_table.to_csv(\"OUTPUT/final_table.csv\")"
   ]
  },
  {
   "cell_type": "code",
   "execution_count": 13,
   "metadata": {},
   "outputs": [
    {
     "data": {
      "text/html": [
       "<div>\n",
       "<style scoped>\n",
       "    .dataframe tbody tr th:only-of-type {\n",
       "        vertical-align: middle;\n",
       "    }\n",
       "\n",
       "    .dataframe tbody tr th {\n",
       "        vertical-align: top;\n",
       "    }\n",
       "\n",
       "    .dataframe thead th {\n",
       "        text-align: right;\n",
       "    }\n",
       "</style>\n",
       "<table border=\"1\" class=\"dataframe\">\n",
       "  <thead>\n",
       "    <tr style=\"text-align: right;\">\n",
       "      <th></th>\n",
       "      <th>Release</th>\n",
       "      <th>Currency</th>\n",
       "      <th>Symbol</th>\n",
       "      <th>Programming language of implementation</th>\n",
       "      <th>Notes</th>\n",
       "      <th>Date</th>\n",
       "      <th>Close</th>\n",
       "      <th>Market Cap</th>\n",
       "    </tr>\n",
       "  </thead>\n",
       "  <tbody>\n",
       "    <tr>\n",
       "      <th>0</th>\n",
       "      <td>2009</td>\n",
       "      <td>Bitcoin</td>\n",
       "      <td>BTC, XBT, ₿</td>\n",
       "      <td>C++</td>\n",
       "      <td>The first and most widely used decentralized l...</td>\n",
       "      <td>2019-12-04</td>\n",
       "      <td>7252.03</td>\n",
       "      <td>1.311431e+11</td>\n",
       "    </tr>\n",
       "    <tr>\n",
       "      <th>1</th>\n",
       "      <td>2009</td>\n",
       "      <td>Bitcoin</td>\n",
       "      <td>BTC, XBT, ₿</td>\n",
       "      <td>C++</td>\n",
       "      <td>The first and most widely used decentralized l...</td>\n",
       "      <td>2019-12-03</td>\n",
       "      <td>7320.15</td>\n",
       "      <td>1.323599e+11</td>\n",
       "    </tr>\n",
       "    <tr>\n",
       "      <th>2</th>\n",
       "      <td>2009</td>\n",
       "      <td>Bitcoin</td>\n",
       "      <td>BTC, XBT, ₿</td>\n",
       "      <td>C++</td>\n",
       "      <td>The first and most widely used decentralized l...</td>\n",
       "      <td>2019-12-02</td>\n",
       "      <td>7321.99</td>\n",
       "      <td>1.323790e+11</td>\n",
       "    </tr>\n",
       "    <tr>\n",
       "      <th>3</th>\n",
       "      <td>2009</td>\n",
       "      <td>Bitcoin</td>\n",
       "      <td>BTC, XBT, ₿</td>\n",
       "      <td>C++</td>\n",
       "      <td>The first and most widely used decentralized l...</td>\n",
       "      <td>2019-12-01</td>\n",
       "      <td>7424.29</td>\n",
       "      <td>1.342151e+11</td>\n",
       "    </tr>\n",
       "    <tr>\n",
       "      <th>4</th>\n",
       "      <td>2009</td>\n",
       "      <td>Bitcoin</td>\n",
       "      <td>BTC, XBT, ₿</td>\n",
       "      <td>C++</td>\n",
       "      <td>The first and most widely used decentralized l...</td>\n",
       "      <td>2019-11-30</td>\n",
       "      <td>7569.63</td>\n",
       "      <td>1.368294e+11</td>\n",
       "    </tr>\n",
       "    <tr>\n",
       "      <th>...</th>\n",
       "      <td>...</td>\n",
       "      <td>...</td>\n",
       "      <td>...</td>\n",
       "      <td>...</td>\n",
       "      <td>...</td>\n",
       "      <td>...</td>\n",
       "      <td>...</td>\n",
       "      <td>...</td>\n",
       "    </tr>\n",
       "    <tr>\n",
       "      <th>16879</th>\n",
       "      <td>2017</td>\n",
       "      <td>EOS</td>\n",
       "      <td>EOS</td>\n",
       "      <td>WebAssembly, Rust, C, C++</td>\n",
       "      <td>Feeless Smart contract platform for decentrali...</td>\n",
       "      <td>2013-05-02</td>\n",
       "      <td>3.37</td>\n",
       "      <td>5.828798e+07</td>\n",
       "    </tr>\n",
       "    <tr>\n",
       "      <th>16880</th>\n",
       "      <td>2017</td>\n",
       "      <td>EOS</td>\n",
       "      <td>EOS</td>\n",
       "      <td>WebAssembly, Rust, C, C++</td>\n",
       "      <td>Feeless Smart contract platform for decentrali...</td>\n",
       "      <td>2013-05-01</td>\n",
       "      <td>3.80</td>\n",
       "      <td>6.560460e+07</td>\n",
       "    </tr>\n",
       "    <tr>\n",
       "      <th>16881</th>\n",
       "      <td>2017</td>\n",
       "      <td>EOS</td>\n",
       "      <td>EOS</td>\n",
       "      <td>WebAssembly, Rust, C, C++</td>\n",
       "      <td>Feeless Smart contract platform for decentrali...</td>\n",
       "      <td>2013-04-30</td>\n",
       "      <td>4.30</td>\n",
       "      <td>7.402092e+07</td>\n",
       "    </tr>\n",
       "    <tr>\n",
       "      <th>16882</th>\n",
       "      <td>2017</td>\n",
       "      <td>EOS</td>\n",
       "      <td>EOS</td>\n",
       "      <td>WebAssembly, Rust, C, C++</td>\n",
       "      <td>Feeless Smart contract platform for decentrali...</td>\n",
       "      <td>2013-04-29</td>\n",
       "      <td>4.38</td>\n",
       "      <td>7.538896e+07</td>\n",
       "    </tr>\n",
       "    <tr>\n",
       "      <th>16883</th>\n",
       "      <td>2017</td>\n",
       "      <td>EOS</td>\n",
       "      <td>EOS</td>\n",
       "      <td>WebAssembly, Rust, C, C++</td>\n",
       "      <td>Feeless Smart contract platform for decentrali...</td>\n",
       "      <td>2013-04-28</td>\n",
       "      <td>4.35</td>\n",
       "      <td>7.463694e+07</td>\n",
       "    </tr>\n",
       "  </tbody>\n",
       "</table>\n",
       "<p>16884 rows × 8 columns</p>\n",
       "</div>"
      ],
      "text/plain": [
       "      Release Currency       Symbol Programming language of implementation  \\\n",
       "0        2009  Bitcoin  BTC, XBT, ₿                                    C++   \n",
       "1        2009  Bitcoin  BTC, XBT, ₿                                    C++   \n",
       "2        2009  Bitcoin  BTC, XBT, ₿                                    C++   \n",
       "3        2009  Bitcoin  BTC, XBT, ₿                                    C++   \n",
       "4        2009  Bitcoin  BTC, XBT, ₿                                    C++   \n",
       "...       ...      ...          ...                                    ...   \n",
       "16879    2017      EOS          EOS              WebAssembly, Rust, C, C++   \n",
       "16880    2017      EOS          EOS              WebAssembly, Rust, C, C++   \n",
       "16881    2017      EOS          EOS              WebAssembly, Rust, C, C++   \n",
       "16882    2017      EOS          EOS              WebAssembly, Rust, C, C++   \n",
       "16883    2017      EOS          EOS              WebAssembly, Rust, C, C++   \n",
       "\n",
       "                                                   Notes       Date    Close  \\\n",
       "0      The first and most widely used decentralized l... 2019-12-04  7252.03   \n",
       "1      The first and most widely used decentralized l... 2019-12-03  7320.15   \n",
       "2      The first and most widely used decentralized l... 2019-12-02  7321.99   \n",
       "3      The first and most widely used decentralized l... 2019-12-01  7424.29   \n",
       "4      The first and most widely used decentralized l... 2019-11-30  7569.63   \n",
       "...                                                  ...        ...      ...   \n",
       "16879  Feeless Smart contract platform for decentrali... 2013-05-02     3.37   \n",
       "16880  Feeless Smart contract platform for decentrali... 2013-05-01     3.80   \n",
       "16881  Feeless Smart contract platform for decentrali... 2013-04-30     4.30   \n",
       "16882  Feeless Smart contract platform for decentrali... 2013-04-29     4.38   \n",
       "16883  Feeless Smart contract platform for decentrali... 2013-04-28     4.35   \n",
       "\n",
       "         Market Cap  \n",
       "0      1.311431e+11  \n",
       "1      1.323599e+11  \n",
       "2      1.323790e+11  \n",
       "3      1.342151e+11  \n",
       "4      1.368294e+11  \n",
       "...             ...  \n",
       "16879  5.828798e+07  \n",
       "16880  6.560460e+07  \n",
       "16881  7.402092e+07  \n",
       "16882  7.538896e+07  \n",
       "16883  7.463694e+07  \n",
       "\n",
       "[16884 rows x 8 columns]"
      ]
     },
     "execution_count": 13,
     "metadata": {},
     "output_type": "execute_result"
    }
   ],
   "source": [
    "final_table"
   ]
  },
  {
   "cell_type": "code",
   "execution_count": 58,
   "metadata": {},
   "outputs": [
    {
     "data": {
      "text/plain": [
       "<matplotlib.axes._subplots.AxesSubplot at 0x1172c6410>"
      ]
     },
     "execution_count": 58,
     "metadata": {},
     "output_type": "execute_result"
    },
    {
     "data": {
      "image/png": "[encoded data removed]",
      "text/plain": [
       "<Figure size 432x288 with 1 Axes>"
      ]
     },
     "metadata": {
      "needs_background": "light"
     },
     "output_type": "display_data"
    }
   ],
   "source": [
    "def graphic():\n",
    "    fig, ax = plt.subplots()\n",
    "    for label, grp in final_table.groupby('Currency'):\n",
    "        a=grp.plot(x = 'Date', y = 'Close',ax = ax, label = label)\n",
    "    return a\n",
    "graphic()"
   ]
  },
  {
   "cell_type": "code",
   "execution_count": null,
   "metadata": {},
   "outputs": [],
   "source": []
  },
  {
   "cell_type": "code",
   "execution_count": null,
   "metadata": {},
   "outputs": [],
   "source": []
  }
 ],
 "metadata": {
  "kernelspec": {
   "display_name": "Python 3",
   "language": "python",
   "name": "python3"
  },
  "language_info": {
   "codemirror_mode": {
    "name": "ipython",
    "version": 3
   },
   "file_extension": ".py",
   "mimetype": "text/x-python",
   "name": "python",
   "nbconvert_exporter": "python",
   "pygments_lexer": "ipython3",
   "version": "3.7.6"
  }
 },
 "nbformat": 4,
 "nbformat_minor": 4
}
